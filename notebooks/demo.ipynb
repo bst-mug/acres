{
 "cells": [
  {
   "cell_type": "markdown",
   "metadata": {},
   "source": [
    "# Acronym resolution (`acres`) demo"
   ]
  },
  {
   "cell_type": "markdown",
   "metadata": {},
   "source": [
    "This is a demo of the `acres` project."
   ]
  },
  {
   "cell_type": "markdown",
   "metadata": {},
   "source": [
    "## Configuration"
   ]
  },
  {
   "cell_type": "markdown",
   "metadata": {},
   "source": [
    "### Working directory"
   ]
  },
  {
   "cell_type": "markdown",
   "metadata": {},
   "source": [
    "All `acres` code should run under the root folder."
   ]
  },
  {
   "cell_type": "code",
   "execution_count": 62,
   "metadata": {},
   "outputs": [
    {
     "data": {
      "text/plain": [
       "'/Users/michel/git/acres'"
      ]
     },
     "execution_count": 62,
     "metadata": {},
     "output_type": "execute_result"
    }
   ],
   "source": [
    "import os\n",
    "cwd = os.getcwd()\n",
    "if \"notebooks\" not in os.listdir(cwd):\n",
    "    print(\"Wrong working directory: \" + cwd)\n",
    "    \n",
    "os.getcwd()"
   ]
  },
  {
   "cell_type": "markdown",
   "metadata": {},
   "source": [
    "### Disable gensim warnings"
   ]
  },
  {
   "cell_type": "markdown",
   "metadata": {},
   "source": [
    "This is a problem with gensim 3.6.0 only."
   ]
  },
  {
   "cell_type": "code",
   "execution_count": 63,
   "metadata": {},
   "outputs": [],
   "source": [
    "import warnings\n",
    "warnings.filterwarnings('ignore')"
   ]
  },
  {
   "cell_type": "markdown",
   "metadata": {},
   "source": [
    "## Using word2vec"
   ]
  },
  {
   "cell_type": "markdown",
   "metadata": {},
   "source": [
    "We trained a word2vec model using [gensim](https://radimrehurek.com/gensim/models/word2vec.html) on a cardiology corpus written in German. We obtained best results with a continuous bag-of-words (CBOW) model with a window size of 2."
   ]
  },
  {
   "cell_type": "markdown",
   "metadata": {},
   "source": [
    "### Raw results from wordvec"
   ]
  },
  {
   "cell_type": "code",
   "execution_count": 64,
   "metadata": {},
   "outputs": [],
   "source": [
    "from acres.nn import test\n",
    "\n",
    "def word2vec_raw(acronym):\n",
    "    return test.find_candidates(acronym)"
   ]
  },
  {
   "cell_type": "markdown",
   "metadata": {},
   "source": [
    "The model allows us to get words that occur in a similar context."
   ]
  },
  {
   "cell_type": "code",
   "execution_count": 65,
   "metadata": {
    "scrolled": false
   },
   "outputs": [
    {
     "data": {
      "text/plain": [
       "['zufriedenstellendem',\n",
       " 'gebessertem',\n",
       " 'verbessertem',\n",
       " 'kardiorespiratstabilem',\n",
       " 'gebesserten',\n",
       " 'reduziertem',\n",
       " 'stabilem',\n",
       " 'altersentsprechendem',\n",
       " 'stabilen',\n",
       " 'stationrer Behandlung']"
      ]
     },
     "execution_count": 65,
     "metadata": {},
     "output_type": "execute_result"
    }
   ],
   "source": [
    "word2vec_raw(\"gutem\")"
   ]
  },
  {
   "cell_type": "markdown",
   "metadata": {},
   "source": [
    "It can also be used for spell checking, as typos happen in similar contexts than the correct spelling."
   ]
  },
  {
   "cell_type": "code",
   "execution_count": 66,
   "metadata": {
    "scrolled": false
   },
   "outputs": [
    {
     "data": {
      "text/plain": [
       "['Kardioymopathie',\n",
       " 'Kardiomoypathie',\n",
       " 'Kardiomyopatie',\n",
       " 'Kardiomypathie',\n",
       " 'Kardiopmyopathie',\n",
       " 'Kardiomoyopathie',\n",
       " 'DCMP',\n",
       " 'Kardiomyoapthie',\n",
       " 'Dysplasie',\n",
       " 'Kardiomyopathien']"
      ]
     },
     "execution_count": 66,
     "metadata": {},
     "output_type": "execute_result"
    }
   ],
   "source": [
    "word2vec_raw(\"Cardiomyopathie\")"
   ]
  },
  {
   "cell_type": "markdown",
   "metadata": {},
   "source": [
    "It turns out that acronym expansions also happen in similar contexts than the acronym itself:"
   ]
  },
  {
   "cell_type": "code",
   "execution_count": 67,
   "metadata": {
    "scrolled": true
   },
   "outputs": [
    {
     "data": {
      "text/plain": [
       "['Sinusrhythmus',\n",
       " 'biventrikulrer Stimulation',\n",
       " 'Sr',\n",
       " 'Schrittmacherrhythmus',\n",
       " 'Konversion',\n",
       " 'SMRhythmus',\n",
       " 'SMEKG',\n",
       " 'Am Untersuchungsbeginn',\n",
       " 'bergeleitetes Vorhofflimmern',\n",
       " 'ÐÐÐJ']"
      ]
     },
     "execution_count": 67,
     "metadata": {},
     "output_type": "execute_result"
    }
   ],
   "source": [
    "word2vec_raw(\"SR\")"
   ]
  },
  {
   "cell_type": "code",
   "execution_count": 68,
   "metadata": {
    "scrolled": false
   },
   "outputs": [
    {
     "data": {
      "text/plain": [
       "['Herzfrequenz',\n",
       " 'HFAnstieg',\n",
       " 'Frequenz',\n",
       " 'Herzfrequenzanstieg',\n",
       " 'RRAnstieg',\n",
       " 'Herzfrequenzen',\n",
       " 'Gradienten',\n",
       " 'ÐÐÐmin',\n",
       " 'Hf',\n",
       " 'TachykardieZykluslnge']"
      ]
     },
     "execution_count": 68,
     "metadata": {},
     "output_type": "execute_result"
    }
   ],
   "source": [
    "word2vec_raw(\"HF\")"
   ]
  },
  {
   "cell_type": "code",
   "execution_count": 69,
   "metadata": {},
   "outputs": [
    {
     "data": {
      "text/plain": [
       "['yGT',\n",
       " 'ALT',\n",
       " 'Harnstoff',\n",
       " 'LDH',\n",
       " 'Trigl',\n",
       " 'CK',\n",
       " 'L Thyroxin',\n",
       " 'Ferritin',\n",
       " 'Euthyrox',\n",
       " 'Myoglobin']"
      ]
     },
     "execution_count": 69,
     "metadata": {},
     "output_type": "execute_result"
    }
   ],
   "source": [
    "word2vec_raw(\"GGT\")"
   ]
  },
  {
   "cell_type": "markdown",
   "metadata": {},
   "source": [
    "As this is a semantic model, note that it also works for non-trivial expansions, like `RR => Blutdruck`."
   ]
  },
  {
   "cell_type": "code",
   "execution_count": 70,
   "metadata": {},
   "outputs": [
    {
     "data": {
      "text/plain": [
       "['Blutdruck',\n",
       " 'BZ',\n",
       " 'Mittlerer Nachtwert',\n",
       " 'Blutdruckes',\n",
       " 'Leberwerte',\n",
       " 'Mittlerer Tageswert',\n",
       " 'Vertrglichkeit',\n",
       " 'CRP',\n",
       " 'Blutdruckwerten',\n",
       " 'Blutruck']"
      ]
     },
     "execution_count": 70,
     "metadata": {},
     "output_type": "execute_result"
    }
   ],
   "source": [
    "word2vec_raw(\"RR\")"
   ]
  },
  {
   "cell_type": "markdown",
   "metadata": {},
   "source": [
    "(RR is a common acronym for designating \"blood pressure\" in German. It stems from the inventors of the cuff-based sphygmomanometer, the italians Riva and Rocci 🙂)\n"
   ]
  },
  {
   "cell_type": "markdown",
   "metadata": {},
   "source": [
    "It also works for terms borrowed from other languages (e.g. English), such as `EF => Auswurffraktion` (ejection fraction)."
   ]
  },
  {
   "cell_type": "code",
   "execution_count": 71,
   "metadata": {
    "scrolled": true
   },
   "outputs": [
    {
     "data": {
      "text/plain": [
       "['LVEF',\n",
       " 'Auswurffraktion',\n",
       " 'LVF',\n",
       " 'Simpson',\n",
       " 'LVEDD',\n",
       " 'global',\n",
       " 'CO Diffusionskapazitt',\n",
       " 'GFR',\n",
       " 'LVFunktion',\n",
       " 'visuell']"
      ]
     },
     "execution_count": 71,
     "metadata": {},
     "output_type": "execute_result"
    }
   ],
   "source": [
    "word2vec_raw(\"EF\")"
   ]
  },
  {
   "cell_type": "markdown",
   "metadata": {},
   "source": [
    "We also enriched the model with common collocations provided by the `Phraser` module so that it also works for multiwords acronyms:"
   ]
  },
  {
   "cell_type": "code",
   "execution_count": 72,
   "metadata": {
    "scrolled": false
   },
   "outputs": [
    {
     "data": {
      "text/plain": [
       "['APSymptomatik',\n",
       " 'Angina pectoris',\n",
       " 'Stenokardien',\n",
       " 'Crescendo AP',\n",
       " 'Angina pectorisSymptomatik',\n",
       " 'BelastungsAP',\n",
       " 'Atemnot',\n",
       " 'Leistungsminderung',\n",
       " 'Angina Pectoris',\n",
       " 'aortenstenosespezifische']"
      ]
     },
     "execution_count": 72,
     "metadata": {},
     "output_type": "execute_result"
    }
   ],
   "source": [
    "word2vec_raw(\"AP\")"
   ]
  },
  {
   "cell_type": "markdown",
   "metadata": {},
   "source": [
    "It does not work, however, for acronyms that are never expanded in the collection:"
   ]
  },
  {
   "cell_type": "code",
   "execution_count": 73,
   "metadata": {},
   "outputs": [
    {
     "data": {
      "text/plain": [
       "['HolterEKG',\n",
       " 'RuheEKG',\n",
       " 'LangzeitEKG',\n",
       " 'KontrollEKG',\n",
       " 'Am Untersuchungsbeginn',\n",
       " 'Echo',\n",
       " 'AnfallsEKG',\n",
       " 'ÐÐStdEKG',\n",
       " 'AufnahmeEKG',\n",
       " 'Schdel CT']"
      ]
     },
     "execution_count": 73,
     "metadata": {},
     "output_type": "execute_result"
    }
   ],
   "source": [
    "word2vec_raw(\"EKG\")"
   ]
  },
  {
   "cell_type": "markdown",
   "metadata": {},
   "source": [
    "### Filtered results"
   ]
  },
  {
   "cell_type": "markdown",
   "metadata": {},
   "source": [
    "For proper acronym expansion, we further filter results using hand-crafted rules."
   ]
  },
  {
   "cell_type": "code",
   "execution_count": 74,
   "metadata": {},
   "outputs": [],
   "source": [
    "from acres.evaluation import evaluation\n",
    "\n",
    "def word2vec_filtered(acronym):\n",
    "    return evaluation.cached_resolve(acronym, \"\", \"\", evaluation.Strategy.WORD2VEC)"
   ]
  },
  {
   "cell_type": "code",
   "execution_count": 75,
   "metadata": {},
   "outputs": [
    {
     "data": {
      "text/plain": [
       "['Sinusrhythmus', 'Schrittmacherrhythmus', 'SMRhythmus']"
      ]
     },
     "execution_count": 75,
     "metadata": {},
     "output_type": "execute_result"
    }
   ],
   "source": [
    "word2vec_filtered(\"SR\")"
   ]
  },
  {
   "cell_type": "code",
   "execution_count": 76,
   "metadata": {},
   "outputs": [
    {
     "data": {
      "text/plain": [
       "['Herzfrequenz', 'Herzfrequenzanstieg', 'Herzfrequenzen']"
      ]
     },
     "execution_count": 76,
     "metadata": {},
     "output_type": "execute_result"
    }
   ],
   "source": [
    "word2vec_filtered(\"HF\")"
   ]
  },
  {
   "cell_type": "code",
   "execution_count": 77,
   "metadata": {},
   "outputs": [
    {
     "data": {
      "text/plain": [
       "['Angina pectoris', 'Angina pectorisSymptomatik', 'Angina Pectoris']"
      ]
     },
     "execution_count": 77,
     "metadata": {},
     "output_type": "execute_result"
    }
   ],
   "source": [
    "word2vec_filtered(\"AP\")"
   ]
  },
  {
   "cell_type": "markdown",
   "metadata": {},
   "source": [
    "Unfortunately, the current rules are too restrictive and do not allow semantic expansions..."
   ]
  },
  {
   "cell_type": "code",
   "execution_count": 78,
   "metadata": {},
   "outputs": [
    {
     "data": {
      "text/plain": [
       "[]"
      ]
     },
     "execution_count": 78,
     "metadata": {},
     "output_type": "execute_result"
    }
   ],
   "source": [
    "word2vec_filtered(\"RR\")"
   ]
  },
  {
   "cell_type": "code",
   "execution_count": 79,
   "metadata": {
    "scrolled": false
   },
   "outputs": [
    {
     "data": {
      "text/plain": [
       "[]"
      ]
     },
     "execution_count": 79,
     "metadata": {},
     "output_type": "execute_result"
    }
   ],
   "source": [
    "word2vec_filtered(\"EF\")"
   ]
  }
 ],
 "metadata": {
  "kernelspec": {
   "display_name": "Python 3",
   "language": "python",
   "name": "python3"
  },
  "language_info": {
   "codemirror_mode": {
    "name": "ipython",
    "version": 3
   },
   "file_extension": ".py",
   "mimetype": "text/x-python",
   "name": "python",
   "nbconvert_exporter": "python",
   "pygments_lexer": "ipython3",
   "version": "3.7.0"
  }
 },
 "nbformat": 4,
 "nbformat_minor": 2
}
